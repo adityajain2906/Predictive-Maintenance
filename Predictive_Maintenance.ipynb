{
 "cells": [
  {
   "cell_type": "code",
   "execution_count": 1,
   "id": "4c3fffc3",
   "metadata": {},
   "outputs": [],
   "source": [
    "import numpy as np\n",
    "import pandas as pd\n",
    "import matplotlib.pyplot as plt\n",
    "import os\n",
    "import math"
   ]
  },
  {
   "cell_type": "code",
   "execution_count": null,
   "id": "4194685d",
   "metadata": {},
   "outputs": [],
   "source": [
    "class Visualizer():\n",
    "    def __init__(self):\n",
    "        pass"
   ]
  },
  {
   "cell_type": "code",
   "execution_count": 2,
   "id": "7dc0a72d",
   "metadata": {},
   "outputs": [],
   "source": [
    "class Train():\n",
    "    def __init__(self):\n",
    "        pass\n",
    "    \n",
    "    def lr_trainer(x_train,y_train,x_test,y_test):\n",
    "        h = regr.fit(x_train,y_train)\n",
    "        y_p = regr.predict(x_test)\n",
    "\n",
    "        print(mean_squared_error(y_test, y_p))\n",
    "        print(r2_score(y_test, y_p))\n",
    "    \n",
    "    def svr_trainer(x_train,y_train,x_test):\n",
    "        grid.fit(x_train, y_train)\n",
    "        y_pred = grid.predict(x_test)\n"
   ]
  },
  {
   "cell_type": "code",
   "execution_count": null,
   "id": "51916182",
   "metadata": {},
   "outputs": [],
   "source": [
    "class Linear_Regressor():\n",
    "    def __init__(self):\n",
    "        self.lr_model = None\n",
    "    \n",
    "    def build_model(self):\n",
    "        self.lr_model = linear_model.LinearRegression()\n",
    "\n",
    "class SV_Regressor():\n",
    "    def __init__(self):\n",
    "        self.C = [0.001, 0.1, 1, 10, 100, 1000]\n",
    "        self.gamma = [10, 1, 0.1, 0.01, 0.001, 0.0001]\n",
    "        self.kernel = ['rbf']\n",
    "        self.param_grid = {'C':self.C,\n",
    "                          'gamma':self.gamma,\n",
    "                          'kernel':self.kernel}\n",
    "        self.grid = None\n",
    "        \n",
    "    def build_model(self):\n",
    "        self.grid = GridSearchCV(SVR(), self.param_grid, refit = True, verbose = 3)\n",
    "\n",
    "        \n",
    "class LSTM_Seq_Pred():\n",
    "    def __init__(self):\n",
    "        self.LSTM_layers = 1\n",
    "        self.list_units = [32]\n",
    "        self.input_shape = None\n",
    "        self.add_dropout = True\n",
    "        self.loss = 'mse'\n",
    "        self.optimizer = 'rmsprop'\n",
    "        \n",
    "        \n",
    "    def build_model():\n",
    "        model = Sequential()\n",
    "        model.add(CuDNNLSTM(self.list_units[0],return_sequences=True, input_shape=self.input_shape))\n",
    "        for i in range(1,self.LSTM_layers):\n",
    "            if i==self.LSTM_layers-1:\n",
    "                model.add(CuDNNLSTM(self.list_units[i],return_sequences=False))\n",
    "            else:\n",
    "                model.add(CuDNNLSTM(self.list_units[i],return_sequences=True))\n",
    "        if self.add_dropout:\n",
    "            model.add(Dropout(0.5))\n",
    "        model.add(Dense(1))\n",
    "        model.summary()\n",
    "        model.compile(loss='mse', optimizer='rmsprop')\n",
    "        "
   ]
  },
  {
   "cell_type": "code",
   "execution_count": 1,
   "id": "a6bb1859",
   "metadata": {},
   "outputs": [],
   "source": [
    "class PreProcess():\n",
    "    def __init__(self):\n",
    "        self.d_init = None\n",
    "        self.base_path = 'data/'\n",
    "        self.data_ext = '.csv'\n",
    "        self.Column_Names = {'Unnamed: 1': 'band-y',\n",
    "                             'Unnamed: 4': 'damage-y',\n",
    "                             'Unnamed: 7': 'peak_acc-y',\n",
    "                             'Unnamed: 10': 'peak_vel-y',\n",
    "                             'Unnamed: 13': 'rms-x',\n",
    "                             'Unnamed: 16': 'tempx-y',\n",
    "                             'Unnamed: 19': 'peak_acc-x',\n",
    "                             'Unnamed: 22': 'peak_vel-x',\n",
    "                             'Unnamed: 25': 'rms-y',\n",
    "                             'Unnamed: 28': 'temp-y',\n",
    "                             'Unnamed: 31': 'band-x',\n",
    "                             'Unnamed: 34': 'damage-x',\n",
    "                             'Unnamed: 37':'battery'}\n",
    "        self.Metrics=[]\n",
    "    \n",
    "    \n",
    "    def check_for_null_value(self,df):\n",
    "        return df.isnull().values.any(),df.isnull().values.sum()\n",
    "    \n",
    "    def get_date_time(self,df,Columns):\n",
    "        df_ = pd.DataFrame()\n",
    "        df_ = df_.astype(float)\n",
    "\n",
    "        df_['datetime'] = pd.to_datetime(df[Columns[0]][1:])\n",
    "        df_ = df_.resample('10T',on='datetime')\n",
    "\n",
    "        for i in range(len(Columns)-1):\n",
    "            df_[self.Column_Names[Columns[i+1]]] = df[Columns[i+1]].values[1:]\n",
    "\n",
    "        df_.index = [i for i in range(len(df_.values))]\n",
    "        self.Metrics.append((Columns[0],check_for_null_value(df_)))\n",
    "        return df_\n",
    "    \n",
    "    def clean_and_process(self,df):\n",
    "        Metrics=[]\n",
    "        Cols = df.columns\n",
    "        i=0\n",
    "        self.d_init = get_date_time(df[Cols[i:i+2]],Cols[i:i+2])\n",
    "        for i in range(2,len(Cols)-1,2):\n",
    "            d1 = get_date_time(df[Cols[i:i+2]],Cols[i:i+2])\n",
    "            self.d_init = pd.merge(self.d_init,d1)\n",
    "\n",
    "        self.d_init.fillna(method='pad')\n",
    "    \n",
    "    def prep_data(self,path):\n",
    "        df_set = pd.read_csv(self.base_path + path + self.data_ext)\n",
    "        df_set = df_set.dropna(how='all',axis=1)\n",
    "        df_set = clean_and_process(df_set)\n",
    "        return df_set"
   ]
  },
  {
   "cell_type": "code",
   "execution_count": 3,
   "id": "86b2a19f",
   "metadata": {},
   "outputs": [],
   "source": [
    "def construct_stream(k_min,k_max,bit_value,sensor_value):\n",
    "    if bit_value:\n",
    "        pass"
   ]
  },
  {
   "cell_type": "code",
   "execution_count": 4,
   "id": "44045366",
   "metadata": {
    "scrolled": false
   },
   "outputs": [],
   "source": [
    "def clean_and_process(df,Column_Names):\n",
    "    Metrics=[]\n",
    "    Cols = df.columns\n",
    "    i=0\n",
    "    d_init,Metrics = get_date_time(df[Cols[i:i+2]],Cols[i:i+2],Metrics,Column_Names)\n",
    "    for i in range(2,len(Cols)-1,2):\n",
    "        d1,Metrics = get_date_time(df[Cols[i:i+2]],Cols[i:i+2],Metrics,Column_Names)\n",
    "        d_init = pd.merge(d_init,d1)\n",
    "    \n",
    "    d_init.fillna(method='pad')\n",
    "    return d_init,Metrics"
   ]
  },
  {
   "cell_type": "code",
   "execution_count": 5,
   "id": "3404067f",
   "metadata": {},
   "outputs": [],
   "source": [
    "def get_date_time(df,Columns,Metrics,Column_Names):\n",
    "    df_ = pd.DataFrame()\n",
    "    df_ = df_.astype(float)\n",
    "\n",
    "    df_['datetime'] = pd.to_datetime(df[Columns[0]][1:])\n",
    "    df_ = df_.resample('10T',on='datetime')\n",
    "    \n",
    "    for i in range(len(Columns)-1):\n",
    "        df_[Column_Names[Columns[i+1]]] = df[Columns[i+1]].values[1:]\n",
    "    display(df_.head())\n",
    "    \n",
    "    df_.index = [i for i in range(len(df_.values))]\n",
    "    Metrics.append((Columns[0],check_for_null_value(df_)))\n",
    "    return df_,Metrics"
   ]
  },
  {
   "cell_type": "code",
   "execution_count": 6,
   "id": "311b70b6",
   "metadata": {},
   "outputs": [],
   "source": [
    "def prep_data(path):\n",
    "    df_set = pd.read_csv(path)\n",
    "    df_set = df_set.dropna(how='all',axis=1)\n",
    "    \n",
    "    Column_Names = {'Unnamed: 1': 'band-y',\n",
    "     'Unnamed: 4': 'damage-y',\n",
    "     'Unnamed: 7': 'peak_acc-y',\n",
    "     'Unnamed: 10': 'peak_vel-y',\n",
    "     'Unnamed: 13': 'rms-x',\n",
    "     'Unnamed: 16': 'tempx-y',\n",
    "     'Unnamed: 19': 'peak_acc-x',\n",
    "     'Unnamed: 22': 'peak_vel-x',\n",
    "     'Unnamed: 25': 'rms-y',\n",
    "     'Unnamed: 28': 'temp-y',\n",
    "     'Unnamed: 31': 'band-x',\n",
    "     'Unnamed: 34': 'damage-x',\n",
    "     'Unnamed: 37':'battery'}\n",
    "    \n",
    "    Columns=[]\n",
    "    Columns.append(df_set.columns[0])\n",
    "    for i in range(1,len(df_set.columns),2):\n",
    "        Columns.append(df_set.columns[i])\n",
    "    \n",
    "    df_set,Metrics = clean_and_process(df_set,Column_Names)\n",
    "    return df_set,Metrics"
   ]
  },
  {
   "cell_type": "code",
   "execution_count": 8,
   "id": "bc7d4fad",
   "metadata": {
    "scrolled": false
   },
   "outputs": [],
   "source": [
    "base_path_part = 'data for participants/'\n",
    "data_participants = os.listdir('data for participants/')\n",
    "path = base_path_part + data_participants[1]"
   ]
  },
  {
   "cell_type": "code",
   "execution_count": 1,
   "id": "8ba60a51",
   "metadata": {},
   "outputs": [],
   "source": [
    "import numpy as np\n",
    "import pandas as pd\n",
    "from tensorflow.compat.v1 import ConfigProto\n",
    "from tensorflow.compat.v1 import InteractiveSession\n",
    "from keras.models import Sequential\n",
    "from keras.layers import CuDNNLSTM,Dense,Dropout,LSTM,Flatten,Conv2D,GlobalAveragePooling2D,TimeDistributed,Input"
   ]
  },
  {
   "cell_type": "code",
   "execution_count": 2,
   "id": "238209d3",
   "metadata": {},
   "outputs": [],
   "source": [
    "df_week1 = pd.read_csv('drill press X.csv')[:1002]\n",
    "df_week2 = pd.read_csv('drill press X.csv')[1002:]"
   ]
  },
  {
   "cell_type": "code",
   "execution_count": 3,
   "id": "a6c26770",
   "metadata": {},
   "outputs": [],
   "source": [
    "path = \"drill press X.csv\"\n",
    "df = pd.read_csv(path)\n",
    "y = df[\"damage X\"]\n",
    "x = df.loc[:,df.columns!=\"damage X\"]\n",
    "\n",
    "y_train = y[:1700]\n",
    "x_train = x[:1700]\n",
    "y_test = y[1700:]\n",
    "x_test = x[1700:]"
   ]
  },
  {
   "cell_type": "code",
   "execution_count": 4,
   "id": "8c84e551",
   "metadata": {},
   "outputs": [
    {
     "name": "stdout",
     "output_type": "stream",
     "text": [
      "(1700, 6)\n",
      "(1700,)\n",
      "(304, 6)\n",
      "(304,)\n"
     ]
    }
   ],
   "source": [
    "print(x_train.shape)\n",
    "print(y_train.shape)\n",
    "print(x_test.shape)\n",
    "print(y_test.shape)"
   ]
  },
  {
   "cell_type": "code",
   "execution_count": 5,
   "id": "eb2a5548",
   "metadata": {},
   "outputs": [],
   "source": [
    "path = \"drill press X.csv\"\n",
    "df = pd.read_csv(path)\n",
    "y = df[\"damage X\"]\n",
    "x = df.loc[:,df.columns!=\"damage X\"]\n",
    "\n",
    "y_train = y[:1700]\n",
    "x_train = x[:1700]\n",
    "y_test = y[1700:]\n",
    "x_test = x[1700:]\n",
    "\n",
    "def create_dataset (X, y, time_steps = 1):\n",
    "    Xs, ys = [], []\n",
    "    for i in range(len(X)-time_steps):\n",
    "        v = X[i:i+time_steps, :]\n",
    "        Xs.append(v)\n",
    "        ys.append(y[i+time_steps])\n",
    "    return np.array(Xs), np.array(ys)\n",
    "\n",
    "Xs,Ys = create_dataset(np.array(x_train),np.array(y_train),20)\n",
    "Xt,Yt = create_dataset(np.array(x_test),np.array(y_test),20)\n",
    "print(Xs.shape)\n",
    "print(Ys.shape)\n",
    "print(Xt.shape)\n",
    "print(Yt.shape)"
   ]
  },
  {
   "cell_type": "code",
   "execution_count": 6,
   "id": "1740d363",
   "metadata": {},
   "outputs": [
    {
     "name": "stdout",
     "output_type": "stream",
     "text": [
      "(1680, 20, 6)\n",
      "(1680,)\n",
      "(284, 20, 6)\n",
      "(284,)\n"
     ]
    }
   ],
   "source": []
  },
  {
   "cell_type": "code",
   "execution_count": 7,
   "id": "46a2197c",
   "metadata": {},
   "outputs": [
    {
     "name": "stdout",
     "output_type": "stream",
     "text": [
      "Model: \"sequential\"\n",
      "_________________________________________________________________\n",
      "Layer (type)                 Output Shape              Param #   \n",
      "=================================================================\n",
      "cu_dnnlstm (CuDNNLSTM)       (None, 20, 32)            5120      \n",
      "_________________________________________________________________\n",
      "dropout (Dropout)            (None, 20, 32)            0         \n",
      "_________________________________________________________________\n",
      "cu_dnnlstm_1 (CuDNNLSTM)     (None, 8)                 1344      \n",
      "_________________________________________________________________\n",
      "dense (Dense)                (None, 1)                 9         \n",
      "=================================================================\n",
      "Total params: 6,473\n",
      "Trainable params: 6,473\n",
      "Non-trainable params: 0\n",
      "_________________________________________________________________\n"
     ]
    }
   ],
   "source": [
    "model = Sequential()\n",
    "model.add(CuDNNLSTM(32,return_sequences=True, input_shape=(Xs.shape[1], Xs.shape[2])))\n",
    "model.add(Dropout(0.5))\n",
    "model.add(CuDNNLSTM(8,return_sequences=False))\n",
    "model.add(Dense(1))\n",
    "model.summary()\n",
    "model.compile(loss='mse', optimizer='rmsprop')"
   ]
  },
  {
   "cell_type": "code",
   "execution_count": 8,
   "id": "d9ac7f55",
   "metadata": {},
   "outputs": [
    {
     "name": "stdout",
     "output_type": "stream",
     "text": [
      "Epoch 1/20\n",
      "48/48 [==============================] - 4s 17ms/step - loss: 0.0843 - val_loss: 0.0571\n",
      "Epoch 2/20\n",
      "48/48 [==============================] - 0s 8ms/step - loss: 0.0585 - val_loss: 0.0572\n",
      "Epoch 3/20\n",
      "48/48 [==============================] - 0s 8ms/step - loss: 0.0556 - val_loss: 0.0570\n",
      "Epoch 4/20\n",
      "48/48 [==============================] - 0s 8ms/step - loss: 0.0541 - val_loss: 0.0571\n",
      "Epoch 5/20\n",
      "48/48 [==============================] - 0s 7ms/step - loss: 0.0539 - val_loss: 0.0576\n",
      "Epoch 6/20\n",
      "48/48 [==============================] - 0s 8ms/step - loss: 0.0534 - val_loss: 0.0571\n",
      "Epoch 7/20\n",
      "48/48 [==============================] - 0s 8ms/step - loss: 0.0537 - val_loss: 0.0575\n",
      "Epoch 8/20\n",
      "48/48 [==============================] - 0s 9ms/step - loss: 0.0533 - val_loss: 0.0572\n",
      "Epoch 9/20\n",
      "48/48 [==============================] - 0s 7ms/step - loss: 0.0532 - val_loss: 0.0570\n",
      "Epoch 10/20\n",
      "48/48 [==============================] - 0s 7ms/step - loss: 0.0531 - val_loss: 0.0571\n",
      "Epoch 11/20\n",
      "48/48 [==============================] - 0s 8ms/step - loss: 0.0530 - val_loss: 0.0571\n",
      "Epoch 12/20\n",
      "48/48 [==============================] - 0s 8ms/step - loss: 0.0534 - val_loss: 0.0572\n",
      "Epoch 13/20\n",
      "48/48 [==============================] - 0s 8ms/step - loss: 0.0532 - val_loss: 0.0583\n",
      "Epoch 14/20\n",
      "48/48 [==============================] - 0s 7ms/step - loss: 0.0532 - val_loss: 0.0570\n",
      "Epoch 15/20\n",
      "48/48 [==============================] - 0s 8ms/step - loss: 0.0532 - val_loss: 0.0571\n",
      "Epoch 16/20\n",
      "48/48 [==============================] - 0s 7ms/step - loss: 0.0531 - val_loss: 0.0571\n",
      "Epoch 17/20\n",
      "48/48 [==============================] - 0s 8ms/step - loss: 0.0531 - val_loss: 0.0571\n",
      "Epoch 18/20\n",
      "48/48 [==============================] - 0s 8ms/step - loss: 0.0530 - val_loss: 0.0569\n",
      "Epoch 19/20\n",
      "48/48 [==============================] - 0s 9ms/step - loss: 0.0532 - val_loss: 0.0570\n",
      "Epoch 20/20\n",
      "48/48 [==============================] - 0s 8ms/step - loss: 0.0528 - val_loss: 0.0570\n"
     ]
    }
   ],
   "source": [
    "config = ConfigProto()\n",
    "config.gpu_options.allow_growth = True\n",
    "session = InteractiveSession(config=config)\n",
    "\n",
    "history = model.fit(Xs,Ys,epochs=20,validation_split=0.1)\n",
    "\n",
    "session.close()"
   ]
  },
  {
   "cell_type": "code",
   "execution_count": 9,
   "id": "2368933b",
   "metadata": {},
   "outputs": [
    {
     "ename": "NameError",
     "evalue": "name 'plt' is not defined",
     "output_type": "error",
     "traceback": [
      "\u001b[0;31m---------------------------------------------------------------------------\u001b[0m",
      "\u001b[0;31mNameError\u001b[0m                                 Traceback (most recent call last)",
      "\u001b[0;32m<ipython-input-9-3cf3cb3ef1c5>\u001b[0m in \u001b[0;36m<module>\u001b[0;34m\u001b[0m\n\u001b[0;32m----> 1\u001b[0;31m \u001b[0mplt\u001b[0m\u001b[0;34m.\u001b[0m\u001b[0mplot\u001b[0m\u001b[0;34m(\u001b[0m\u001b[0mhistory\u001b[0m\u001b[0;34m.\u001b[0m\u001b[0mhistory\u001b[0m\u001b[0;34m[\u001b[0m\u001b[0;34m'loss'\u001b[0m\u001b[0;34m]\u001b[0m\u001b[0;34m,\u001b[0m\u001b[0mlabel\u001b[0m\u001b[0;34m=\u001b[0m\u001b[0;34m'Training Loss'\u001b[0m\u001b[0;34m)\u001b[0m\u001b[0;34m\u001b[0m\u001b[0;34m\u001b[0m\u001b[0m\n\u001b[0m\u001b[1;32m      2\u001b[0m \u001b[0mplt\u001b[0m\u001b[0;34m.\u001b[0m\u001b[0mplot\u001b[0m\u001b[0;34m(\u001b[0m\u001b[0mhistory\u001b[0m\u001b[0;34m.\u001b[0m\u001b[0mhistory\u001b[0m\u001b[0;34m[\u001b[0m\u001b[0;34m'val_loss'\u001b[0m\u001b[0;34m]\u001b[0m\u001b[0;34m,\u001b[0m\u001b[0mlabel\u001b[0m\u001b[0;34m=\u001b[0m\u001b[0;34m'Validation Loss'\u001b[0m\u001b[0;34m)\u001b[0m\u001b[0;34m\u001b[0m\u001b[0;34m\u001b[0m\u001b[0m\n\u001b[1;32m      3\u001b[0m \u001b[0mplt\u001b[0m\u001b[0;34m.\u001b[0m\u001b[0mlegend\u001b[0m\u001b[0;34m(\u001b[0m\u001b[0;34m)\u001b[0m\u001b[0;34m\u001b[0m\u001b[0;34m\u001b[0m\u001b[0m\n",
      "\u001b[0;31mNameError\u001b[0m: name 'plt' is not defined"
     ]
    }
   ],
   "source": [
    "plt.plot(history.history['loss'],label='Training Loss')\n",
    "plt.plot(history.history['val_loss'],label='Validation Loss')\n",
    "plt.legend()"
   ]
  },
  {
   "cell_type": "code",
   "execution_count": null,
   "id": "69e7dfbc",
   "metadata": {},
   "outputs": [],
   "source": [
    "x_plot = [i for i in range(len(Ys))]\n",
    "plt.figure(figsize=(10,6))\n",
    "plt.ylabel('Damage Accumulation - X',size=15)\n",
    "plt.scatter(x_plot,model.predict(Xs),label='Predicted Values')\n",
    "plt.scatter(x_plot,Ys,label='ground_truth')\n",
    "plt.legend()"
   ]
  },
  {
   "cell_type": "code",
   "execution_count": null,
   "id": "78ad21af",
   "metadata": {},
   "outputs": [],
   "source": [
    "x_test_plot = [i for i in range(len(Yt))]\n",
    "plt.figure(figsize=(10,6))\n",
    "plt.ylabel('Damage Accumulation - X',size=15)\n",
    "plt.scatter(x_test_plot,model.predict(Xt),label='Predicted Values')\n",
    "plt.scatter(x_test_plot,Yt,label='ground_truth')\n",
    "plt.legend()"
   ]
  },
  {
   "cell_type": "code",
   "execution_count": null,
   "id": "d2e9bea1",
   "metadata": {},
   "outputs": [],
   "source": [
    "model.evaluate(Xs,Ys)"
   ]
  },
  {
   "cell_type": "code",
   "execution_count": 10,
   "id": "6d2aa070",
   "metadata": {},
   "outputs": [],
   "source": [
    "df = pd.DataFrame()\n",
    "df['LSTM'] = model.predict(Xt).T[0]"
   ]
  },
  {
   "cell_type": "code",
   "execution_count": 11,
   "id": "f0604438",
   "metadata": {},
   "outputs": [],
   "source": [
    "df.to_csv('LSTM_Predicted vals.csv')"
   ]
  },
  {
   "cell_type": "code",
   "execution_count": 6,
   "id": "edc7964d",
   "metadata": {},
   "outputs": [],
   "source": [
    "class Preprocess():\n",
    "    "
   ]
  },
  {
   "cell_type": "code",
   "execution_count": 2,
   "id": "ddcbe93e",
   "metadata": {},
   "outputs": [],
   "source": [
    "class Scheduler():\n",
    "    def __init__(self):\n",
    "        self.duration = [11,14,10,8,15,12]\n",
    "        self.deadlines = [5,3,3,4,5,2]\n",
    "        self.project_names = [1,2,3,4,5,6]\n",
    "        self.total_projects = len(self.duration)\n",
    "        self.project_hrs = sum(self.duration)\n",
    "        self.available = 15\n",
    "        self.days = 5\n",
    "        self.feasible = True\n",
    "        self.project = []\n",
    "        self.nfp = []\n",
    "        self.operational_days = [\"Monday\",\"Tuesday\",\"Wednesday\",\"Thursday\",\"Friday\"]\n",
    "    \n",
    "    def high_level_feasibility_check(self):\n",
    "        if (self.project_hrs > self.available*self.days):\n",
    "            print(\"The projects completion is not possible\")\n",
    "            self.feasible = False\n",
    "    \n",
    "    def low_level_feasibility_check(self):\n",
    "        i=0\n",
    "        while i<len(self.project):\n",
    "            count = 1\n",
    "            c = self.project[i][1]\n",
    "            s = self.project[i][0]\n",
    "            for j in range(i+1,len(self.project)):\n",
    "                if (self.project[j][1] == c):\n",
    "                    count+=1\n",
    "                    s += self.project[j][0]\n",
    "                else:\n",
    "                    break\n",
    "            if (s > self.available * count):\n",
    "                self.feasible = False\n",
    "                while project[i][1] == c:\n",
    "                    self.nfp.append(i)\n",
    "                    i+=1\n",
    "            i+=1\n",
    "\n",
    "        if not self.feasible:\n",
    "            print(\"The following projects are not feasible:\")\n",
    "            for i in range(len(self.nfp)):\n",
    "                print(\"Project\",self.nfp[i]+1,\",\",end=\"\")\n",
    "            print()\n",
    "        assert self.feasible\n",
    "    \n",
    "    def setup_project_matrix(self):\n",
    "        for i in range(self.total_projects):\n",
    "            self.project.append([self.duration[i], self.deadlines[i], self.project_names[i]])\n",
    "        self.project.sort(key=lambda x : x[1])\n",
    "        \n",
    "    \n",
    "    def allot_slots(self):\n",
    "        self.high_level_feasibility_check()\n",
    "        self.setup_project_matrix()\n",
    "        self.low_level_feasibility_check()\n",
    "        \n",
    "        available_slots_per_day = [self.available] * self.days\n",
    "        week_slots = np.array([[\"Empty\"] * self.available] * self.days)\n",
    "        i=0\n",
    "        start = 0\n",
    "\n",
    "        while i<len(self.project):\n",
    "            c = self.project[i][1]\n",
    "            group = []\n",
    "            group.append(i)\n",
    "            for j in range(i+1, len(self.project)):\n",
    "                if (self.project[j][1] == c):\n",
    "                    group.append(j)\n",
    "                    i+=1\n",
    "                else:\n",
    "                    break\n",
    "            hrs = 0\n",
    "            for g in group:\n",
    "                hrs += self.project[g][0]\n",
    "\n",
    "            tday = 0\n",
    "            while hrs>0:\n",
    "                division = math.ceil(hrs/c)\n",
    "                temp = []\n",
    "                s = 0\n",
    "                for g in range(len(group)):\n",
    "                    if g != len(group)-1:\n",
    "                        calc = math.ceil(self.project[group[g]][0]/hrs * division)\n",
    "                        s += calc\n",
    "                        temp.append([group[g], calc])\n",
    "                    else:\n",
    "                        temp.append([group[g], division - s])\n",
    "\n",
    "                flag = True\n",
    "                for t in temp:\n",
    "                    x = self.available - available_slots_per_day[tday]\n",
    "                    e = x\n",
    "                    while e<self.available and e<x+t[1]:\n",
    "                        week_slots[tday][e] = self.project[t[0]][2]\n",
    "                        e+=1\n",
    "                    if (x+t[1] <= self.available):\n",
    "                        available_slots_per_day[tday] -= t[1]\n",
    "                        hrs -= t[1]\n",
    "                        self.project[t[0]][0] -= t[1]\n",
    "                    else:\n",
    "                        available_slots_per_day[tday] = 0\n",
    "                        hrs -= (self.available-x)\n",
    "                        self.project[t[0]][0] -= (self.available-x)\n",
    "                    self.project[t[0]][1] -= 1\n",
    "                c-=1\n",
    "                tday+=1\n",
    "            i+=1\n",
    "        return week_slots\n",
    "    \n",
    "    def display_alloted_slots(self):\n",
    "        weekly_slots = self.allot_slots()\n",
    "        presentable_weekly_slots = []\n",
    "\n",
    "        for i in range(len(weekly_slots)):\n",
    "            temporary = []\n",
    "            for j in range(len(weekly_slots[i])):\n",
    "                if (weekly_slots[i][j]!=\"Empty\"): temporary.append(\"P\" + weekly_slots[i][j])\n",
    "                else: temporary.append(weekly_slots[i][j])\n",
    "            presentable_weekly_slots.append(temporary)\n",
    "\n",
    "        for i in range(len(presentable_weekly_slots)):\n",
    "            print(self.operational_days[i])\n",
    "            print(presentable_weekly_slots[i])"
   ]
  },
  {
   "cell_type": "code",
   "execution_count": 3,
   "id": "f7655f7e",
   "metadata": {},
   "outputs": [
    {
     "name": "stdout",
     "output_type": "stream",
     "text": [
      "Monday\n",
      "['P6', 'P6', 'P6', 'P6', 'P6', 'P6', 'P2', 'P2', 'P2', 'P2', 'P2', 'P3', 'P3', 'P3', 'P4']\n",
      "Tuesday\n",
      "['P6', 'P6', 'P6', 'P6', 'P6', 'P6', 'P2', 'P2', 'P2', 'P2', 'P2', 'P3', 'P3', 'P3', 'P4']\n",
      "Wednesday\n",
      "['P2', 'P2', 'P2', 'P2', 'P3', 'P3', 'P3', 'P3', 'P4', 'P4', 'P4', 'P1', 'P1', 'P1', 'P1']\n",
      "Thursday\n",
      "['P4', 'P4', 'P4', 'P1', 'P1', 'P1', 'P1', 'P5', 'P5', 'P5', 'P5', 'P5', 'P5', 'P5', 'Empty']\n",
      "Friday\n",
      "['P1', 'P1', 'P1', 'P5', 'P5', 'P5', 'P5', 'P5', 'P5', 'P5', 'P5', 'Empty', 'Empty', 'Empty', 'Empty']\n"
     ]
    }
   ],
   "source": [
    "s1 = Scheduler()\n",
    "s1.display_alloted_slots()"
   ]
  },
  {
   "cell_type": "code",
   "execution_count": null,
   "id": "42d195ac",
   "metadata": {},
   "outputs": [],
   "source": []
  }
 ],
 "metadata": {
  "kernelspec": {
   "display_name": "Python 3 (ipykernel)",
   "language": "python",
   "name": "python3"
  },
  "language_info": {
   "codemirror_mode": {
    "name": "ipython",
    "version": 3
   },
   "file_extension": ".py",
   "mimetype": "text/x-python",
   "name": "python",
   "nbconvert_exporter": "python",
   "pygments_lexer": "ipython3",
   "version": "3.10.1"
  }
 },
 "nbformat": 4,
 "nbformat_minor": 5
}
